{
 "cells": [
  {
   "cell_type": "code",
   "execution_count": 1,
   "metadata": {},
   "outputs": [],
   "source": [
    "import pandas as pd\n",
    "import numpy as np\n",
    "import requests\n",
    "import re\n",
    "from bs4 import BeautifulSoup\n",
    "from selenium import webdriver\n",
    "from selenium.webdriver.chrome.options import Options\n",
    "from selenium.webdriver.common.by import By\n",
    "import time\n",
    "from IPython.display import display, clear_output\n",
    "from urllib import parse\n",
    "\n",
    "from selenium.webdriver.support.ui import WebDriverWait\n",
    "from selenium.webdriver.support import expected_conditions as EC\n",
    "from selenium.common.exceptions import StaleElementReferenceException"
   ]
  },
  {
   "cell_type": "code",
   "execution_count": 2,
   "metadata": {},
   "outputs": [],
   "source": [
    "options = webdriver.ChromeOptions()\n",
    "options.add_argument('--ignore-certificate-errors')\n",
    "options.add_argument('--incognito')\n",
    "driver = webdriver.Chrome(\"C:/chrome driver/chromedriver.exe\")\n",
    "driver.get('https://www.tokopedia.com/aftermarketid/ready-faceshield-kacamata-anak-karakter-frozen-avengers-barbie-lol')\n",
    "#driver.get('https://www.lazada.co.id/products/kaos-t-shirt-jumbo-wanita-cat-love-you-love-me-atasan-big-size-ld-116cm-i1649438993-s3192272157.html?spm=a2o4j.home.just4u.5.6f037838mEM971&scm=1007.17519.162103.0&pvid=72df28fe-8eda-46e1-b715-258bb0a19632&clickTrackInfo=tctags%3A26968978+1498575426+881530391%3BtcExpIds%3A251%3Btcsceneid%3AHPJFY%3Bbuyernid%3Ade9ec275-7a8f-45c5-b1b5-fdacac212756%3Btcbid%3A8%3Btcboost%3A0%3Bpvid%3A72df28fe-8eda-46e1-b715-258bb0a19632%3Bchannel_id%3A0000%3Bmt%3Ahot%3Bitem_id%3A1649438993%3Bself_ab_id%3A162103%3Bself_app_id%3A7519%3Blayer_buckets%3A955.3631%3B')"
   ]
  },
  {
   "cell_type": "code",
   "execution_count": null,
   "metadata": {},
   "outputs": [],
   "source": []
  },
  {
   "cell_type": "code",
   "execution_count": null,
   "metadata": {},
   "outputs": [],
   "source": [
    "# def pagination_clicker():\n",
    "#     \"\"\"\n",
    "#     Pagination Loop\n",
    "#     \"\"\"\n",
    "#     # wait the results\n",
    "#     paginations = WebDriverWait(driver, 5).until(\n",
    "#         EC.presence_of_all_elements_located((By.CLASS_NAME, \"GUHElpkt\"))\n",
    "#     )\n",
    "#     products_toko = driver.find_elements_by_class_name('vlEGRFVq')\n",
    "#     # print(driver.current_url)\n",
    "#     url = parse.urlsplit(driver.current_url)\n",
    "#     qs = parse.parse_qs(url.query)\n",
    "\n",
    "#     if 'page' in qs:\n",
    "#         print('Page %s' % qs.get('page')[0])\n",
    "#         if qs.get('page')[0] == PENCARIAN['deep']:\n",
    "#             print('Selesai')\n",
    "#             return None\n",
    "#     else:\n",
    "#         print('Page 1')\n",
    "\n",
    "#     # list products\n",
    "#     try:\n",
    "#         for prd in products_toko:\n",
    "#             product_link = prd.find_element_by_class_name('_2rQtYSxg')\n",
    "#             if product_link.text == PENCARIAN['nama_toko']:\n",
    "#                 product_title = prd.find_element_by_tag_name('h3')\n",
    "#                 print(product_title.text)\n",
    "\n",
    "#         for pagination in paginations:\n",
    "#             if pagination.text == '>':\n",
    "#                 driver.execute_script(\"arguments[0].click();\", pagination)\n",
    "#                 pagination_clicker()\n",
    "#     except StaleElementReferenceException:\n",
    "#         pagination_clicker()\n",
    "\n",
    "\n"
   ]
  },
  {
   "cell_type": "code",
   "execution_count": null,
   "metadata": {},
   "outputs": [],
   "source": [
    "all_review_content = []\n",
    "all_review_description = []\n",
    "all_review_date = []\n",
    "all_review_rating = []\n",
    "\n",
    "\n",
    "for i in range (0, 50):\n",
    "#     page_num = str(i) + len(str(i))* \"0\" \n",
    "    url = 'https://www.lazada.co.id/products/kaos-t-shirt-jumbo-wanita-cat-love-you-love-me-atasan-big-size-ld-116cm-i1649438993-s3192272157.html?spm=a2o4j.home.just4u.5.6f037838mEM971&scm=1007.17519.162103.0&pvid=72df28fe-8eda-46e1-b715-258bb0a19632&clickTrackInfo=tctags%3A26968978+1498575426+881530391%3BtcExpIds%3A251%3Btcsceneid%3AHPJFY%3Bbuyernid%3Ade9ec275-7a8f-45c5-b1b5-fdacac212756%3Btcbid%3A8%3Btcboost%3A0%3Bpvid%3A72df28fe-8eda-46e1-b715-258bb0a19632%3Bchannel_id%3A0000%3Bmt%3Ahot%3Bitem_id%3A1649438993%3Bself_ab_id%3A162103%3Bself_app_id%3A7519%3Blayer_buckets%3A955.3631%3B'\n",
    "    driver.get(url)\n",
    "\n",
    "    \n",
    "    review_content = driver.find_elements_by_class_name(\"content\")\n",
    "    review_rating = driver.find_elements_by_class_name(\"container-star starCtn left\")\n",
    "#     review_date = driver.find_element_by_class_name('title right')\n",
    "    next_page = driver.find_element_by_class_name(\"next\") \n",
    "\n",
    "\n",
    "\n",
    "\n",
    "\n",
    "    for review in review_content:\n",
    "        one_review_content = []\n",
    "        one_review_content.append(review.text)\n",
    "        all_review_content.append(one_review_content)\n",
    "#     for description in review_description:\n",
    "#         one_review_description = []\n",
    "#         one_review_description.append(description.text)\n",
    "#         all_review_description.append(one_review_description)\n",
    "#     for date in review_date:\n",
    "#         one_review_date = []\n",
    "#         one_review_date.append(date.text)\n",
    "#         all_review_date.append(one_review_date)\n",
    "#     for rating in review_rating:\n",
    "#         one_review_rating = []\n",
    "#         new_rating = int((rating.get_attribute('class')).split(\"_\")[-1])/10\n",
    "#         one_review_rating.append(str(new_rating))\n",
    "#         all_review_rating.append(one_review_rating)\n",
    "        \n",
    "#         print(new_rating)\n",
    "#     for rating in review_rating:\n",
    "#         one_review_rating = []\n",
    "#         var = driver.find_element_by_class_name('ui_bubble_rating').get_attribute('class')\n",
    "#         review_rating = var.split(\"_\")[-1]\n",
    "#         one_review_rating.append(review_rating)\n",
    "#         all_review_rating.append(one_review_rating)\n",
    "#     driver.find_elements_by_css_selector(\"[aria-label=Next page]\")\n",
    "    next_page.click()\n",
    " \n",
    "    print(i)\n",
    "    "
   ]
  },
  {
   "cell_type": "code",
   "execution_count": 3,
   "metadata": {},
   "outputs": [
    {
     "ename": "NoSuchElementException",
     "evalue": "Message: no such element: Unable to locate element: {\"method\":\"css selector\",\"selector\":\".css-5x0i4n-unf-pagination-item\"}\n  (Session info: chrome=85.0.4183.102)\n",
     "output_type": "error",
     "traceback": [
      "\u001b[1;31m---------------------------------------------------------------------------\u001b[0m",
      "\u001b[1;31mNoSuchElementException\u001b[0m                    Traceback (most recent call last)",
      "\u001b[1;32m<ipython-input-3-580b28a920cc>\u001b[0m in \u001b[0;36m<module>\u001b[1;34m\u001b[0m\n\u001b[0;32m      7\u001b[0m \u001b[1;31m# review_rating = driver.find_elements_by_class_name(\"container-star starCtn left\")\u001b[0m\u001b[1;33m\u001b[0m\u001b[1;33m\u001b[0m\u001b[1;33m\u001b[0m\u001b[0m\n\u001b[0;32m      8\u001b[0m \u001b[1;31m# next_page = driver.find_element_by_class_name('next').get_attribute('class')\u001b[0m\u001b[1;33m\u001b[0m\u001b[1;33m\u001b[0m\u001b[1;33m\u001b[0m\u001b[0m\n\u001b[1;32m----> 9\u001b[1;33m \u001b[0mnext_page\u001b[0m \u001b[1;33m=\u001b[0m \u001b[0mdriver\u001b[0m\u001b[1;33m.\u001b[0m\u001b[0mfind_element_by_class_name\u001b[0m\u001b[1;33m(\u001b[0m\u001b[1;34m'css-5x0i4n-unf-pagination-item'\u001b[0m\u001b[1;33m)\u001b[0m\u001b[1;33m\u001b[0m\u001b[1;33m\u001b[0m\u001b[0m\n\u001b[0m",
      "\u001b[1;32mC:\\Anaconda3\\lib\\site-packages\\selenium\\webdriver\\remote\\webdriver.py\u001b[0m in \u001b[0;36mfind_element_by_class_name\u001b[1;34m(self, name)\u001b[0m\n\u001b[0;32m    562\u001b[0m             \u001b[0melement\u001b[0m \u001b[1;33m=\u001b[0m \u001b[0mdriver\u001b[0m\u001b[1;33m.\u001b[0m\u001b[0mfind_element_by_class_name\u001b[0m\u001b[1;33m(\u001b[0m\u001b[1;34m'foo'\u001b[0m\u001b[1;33m)\u001b[0m\u001b[1;33m\u001b[0m\u001b[1;33m\u001b[0m\u001b[0m\n\u001b[0;32m    563\u001b[0m         \"\"\"\n\u001b[1;32m--> 564\u001b[1;33m         \u001b[1;32mreturn\u001b[0m \u001b[0mself\u001b[0m\u001b[1;33m.\u001b[0m\u001b[0mfind_element\u001b[0m\u001b[1;33m(\u001b[0m\u001b[0mby\u001b[0m\u001b[1;33m=\u001b[0m\u001b[0mBy\u001b[0m\u001b[1;33m.\u001b[0m\u001b[0mCLASS_NAME\u001b[0m\u001b[1;33m,\u001b[0m \u001b[0mvalue\u001b[0m\u001b[1;33m=\u001b[0m\u001b[0mname\u001b[0m\u001b[1;33m)\u001b[0m\u001b[1;33m\u001b[0m\u001b[1;33m\u001b[0m\u001b[0m\n\u001b[0m\u001b[0;32m    565\u001b[0m \u001b[1;33m\u001b[0m\u001b[0m\n\u001b[0;32m    566\u001b[0m     \u001b[1;32mdef\u001b[0m \u001b[0mfind_elements_by_class_name\u001b[0m\u001b[1;33m(\u001b[0m\u001b[0mself\u001b[0m\u001b[1;33m,\u001b[0m \u001b[0mname\u001b[0m\u001b[1;33m)\u001b[0m\u001b[1;33m:\u001b[0m\u001b[1;33m\u001b[0m\u001b[1;33m\u001b[0m\u001b[0m\n",
      "\u001b[1;32mC:\\Anaconda3\\lib\\site-packages\\selenium\\webdriver\\remote\\webdriver.py\u001b[0m in \u001b[0;36mfind_element\u001b[1;34m(self, by, value)\u001b[0m\n\u001b[0;32m    976\u001b[0m         return self.execute(Command.FIND_ELEMENT, {\n\u001b[0;32m    977\u001b[0m             \u001b[1;34m'using'\u001b[0m\u001b[1;33m:\u001b[0m \u001b[0mby\u001b[0m\u001b[1;33m,\u001b[0m\u001b[1;33m\u001b[0m\u001b[1;33m\u001b[0m\u001b[0m\n\u001b[1;32m--> 978\u001b[1;33m             'value': value})['value']\n\u001b[0m\u001b[0;32m    979\u001b[0m \u001b[1;33m\u001b[0m\u001b[0m\n\u001b[0;32m    980\u001b[0m     \u001b[1;32mdef\u001b[0m \u001b[0mfind_elements\u001b[0m\u001b[1;33m(\u001b[0m\u001b[0mself\u001b[0m\u001b[1;33m,\u001b[0m \u001b[0mby\u001b[0m\u001b[1;33m=\u001b[0m\u001b[0mBy\u001b[0m\u001b[1;33m.\u001b[0m\u001b[0mID\u001b[0m\u001b[1;33m,\u001b[0m \u001b[0mvalue\u001b[0m\u001b[1;33m=\u001b[0m\u001b[1;32mNone\u001b[0m\u001b[1;33m)\u001b[0m\u001b[1;33m:\u001b[0m\u001b[1;33m\u001b[0m\u001b[1;33m\u001b[0m\u001b[0m\n",
      "\u001b[1;32mC:\\Anaconda3\\lib\\site-packages\\selenium\\webdriver\\remote\\webdriver.py\u001b[0m in \u001b[0;36mexecute\u001b[1;34m(self, driver_command, params)\u001b[0m\n\u001b[0;32m    319\u001b[0m         \u001b[0mresponse\u001b[0m \u001b[1;33m=\u001b[0m \u001b[0mself\u001b[0m\u001b[1;33m.\u001b[0m\u001b[0mcommand_executor\u001b[0m\u001b[1;33m.\u001b[0m\u001b[0mexecute\u001b[0m\u001b[1;33m(\u001b[0m\u001b[0mdriver_command\u001b[0m\u001b[1;33m,\u001b[0m \u001b[0mparams\u001b[0m\u001b[1;33m)\u001b[0m\u001b[1;33m\u001b[0m\u001b[1;33m\u001b[0m\u001b[0m\n\u001b[0;32m    320\u001b[0m         \u001b[1;32mif\u001b[0m \u001b[0mresponse\u001b[0m\u001b[1;33m:\u001b[0m\u001b[1;33m\u001b[0m\u001b[1;33m\u001b[0m\u001b[0m\n\u001b[1;32m--> 321\u001b[1;33m             \u001b[0mself\u001b[0m\u001b[1;33m.\u001b[0m\u001b[0merror_handler\u001b[0m\u001b[1;33m.\u001b[0m\u001b[0mcheck_response\u001b[0m\u001b[1;33m(\u001b[0m\u001b[0mresponse\u001b[0m\u001b[1;33m)\u001b[0m\u001b[1;33m\u001b[0m\u001b[1;33m\u001b[0m\u001b[0m\n\u001b[0m\u001b[0;32m    322\u001b[0m             response['value'] = self._unwrap_value(\n\u001b[0;32m    323\u001b[0m                 response.get('value', None))\n",
      "\u001b[1;32mC:\\Anaconda3\\lib\\site-packages\\selenium\\webdriver\\remote\\errorhandler.py\u001b[0m in \u001b[0;36mcheck_response\u001b[1;34m(self, response)\u001b[0m\n\u001b[0;32m    240\u001b[0m                 \u001b[0malert_text\u001b[0m \u001b[1;33m=\u001b[0m \u001b[0mvalue\u001b[0m\u001b[1;33m[\u001b[0m\u001b[1;34m'alert'\u001b[0m\u001b[1;33m]\u001b[0m\u001b[1;33m.\u001b[0m\u001b[0mget\u001b[0m\u001b[1;33m(\u001b[0m\u001b[1;34m'text'\u001b[0m\u001b[1;33m)\u001b[0m\u001b[1;33m\u001b[0m\u001b[1;33m\u001b[0m\u001b[0m\n\u001b[0;32m    241\u001b[0m             \u001b[1;32mraise\u001b[0m \u001b[0mexception_class\u001b[0m\u001b[1;33m(\u001b[0m\u001b[0mmessage\u001b[0m\u001b[1;33m,\u001b[0m \u001b[0mscreen\u001b[0m\u001b[1;33m,\u001b[0m \u001b[0mstacktrace\u001b[0m\u001b[1;33m,\u001b[0m \u001b[0malert_text\u001b[0m\u001b[1;33m)\u001b[0m\u001b[1;33m\u001b[0m\u001b[1;33m\u001b[0m\u001b[0m\n\u001b[1;32m--> 242\u001b[1;33m         \u001b[1;32mraise\u001b[0m \u001b[0mexception_class\u001b[0m\u001b[1;33m(\u001b[0m\u001b[0mmessage\u001b[0m\u001b[1;33m,\u001b[0m \u001b[0mscreen\u001b[0m\u001b[1;33m,\u001b[0m \u001b[0mstacktrace\u001b[0m\u001b[1;33m)\u001b[0m\u001b[1;33m\u001b[0m\u001b[1;33m\u001b[0m\u001b[0m\n\u001b[0m\u001b[0;32m    243\u001b[0m \u001b[1;33m\u001b[0m\u001b[0m\n\u001b[0;32m    244\u001b[0m     \u001b[1;32mdef\u001b[0m \u001b[0m_value_or_default\u001b[0m\u001b[1;33m(\u001b[0m\u001b[0mself\u001b[0m\u001b[1;33m,\u001b[0m \u001b[0mobj\u001b[0m\u001b[1;33m,\u001b[0m \u001b[0mkey\u001b[0m\u001b[1;33m,\u001b[0m \u001b[0mdefault\u001b[0m\u001b[1;33m)\u001b[0m\u001b[1;33m:\u001b[0m\u001b[1;33m\u001b[0m\u001b[1;33m\u001b[0m\u001b[0m\n",
      "\u001b[1;31mNoSuchElementException\u001b[0m: Message: no such element: Unable to locate element: {\"method\":\"css selector\",\"selector\":\".css-5x0i4n-unf-pagination-item\"}\n  (Session info: chrome=85.0.4183.102)\n"
     ]
    }
   ],
   "source": [
    "# url = 'https://www.lazada.co.id/products/kaos-t-shirt-jumbo-wanita-cat-love-you-love-me-atasan-big-size-ld-116cm-i1649438993-s3192272157.html?spm=a2o4j.home.just4u.5.6f037838mEM971&scm=1007.17519.162103.0&pvid=72df28fe-8eda-46e1-b715-258bb0a19632&clickTrackInfo=tctags%3A26968978+1498575426+881530391%3BtcExpIds%3A251%3Btcsceneid%3AHPJFY%3Bbuyernid%3Ade9ec275-7a8f-45c5-b1b5-fdacac212756%3Btcbid%3A8%3Btcboost%3A0%3Bpvid%3A72df28fe-8eda-46e1-b715-258bb0a19632%3Bchannel_id%3A0000%3Bmt%3Ahot%3Bitem_id%3A1649438993%3Bself_ab_id%3A162103%3Bself_app_id%3A7519%3Blayer_buckets%3A955.3631%3B'\n",
    "url= 'https://www.tokopedia.com/aftermarketid/ready-faceshield-kacamata-anak-karakter-frozen-avengers-barbie-lol'\n",
    "driver.get(url)\n",
    "\n",
    "\n",
    "# review_content = driver.find_elements_by_class_name(\"content\")\n",
    "# review_rating = driver.find_elements_by_class_name(\"container-star starCtn left\")\n",
    "# next_page = driver.find_element_by_class_name('next').get_attribute('class')\n",
    "next_page = driver.find_element_by_class_name('css-5x0i4n-unf-pagination-item')"
   ]
  },
  {
   "cell_type": "code",
   "execution_count": null,
   "metadata": {},
   "outputs": [],
   "source": [
    "print(next_page)"
   ]
  },
  {
   "cell_type": "code",
   "execution_count": null,
   "metadata": {},
   "outputs": [],
   "source": [
    "next_page.click()"
   ]
  },
  {
   "cell_type": "code",
   "execution_count": null,
   "metadata": {},
   "outputs": [],
   "source": [
    "driver.close()"
   ]
  },
  {
   "cell_type": "code",
   "execution_count": null,
   "metadata": {},
   "outputs": [],
   "source": []
  },
  {
   "cell_type": "code",
   "execution_count": null,
   "metadata": {},
   "outputs": [],
   "source": []
  }
 ],
 "metadata": {
  "kernelspec": {
   "display_name": "Python 3",
   "language": "python",
   "name": "python3"
  },
  "language_info": {
   "codemirror_mode": {
    "name": "ipython",
    "version": 3
   },
   "file_extension": ".py",
   "mimetype": "text/x-python",
   "name": "python",
   "nbconvert_exporter": "python",
   "pygments_lexer": "ipython3",
   "version": "3.7.4"
  }
 },
 "nbformat": 4,
 "nbformat_minor": 2
}
