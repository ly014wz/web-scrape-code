{
 "cells": [
  {
   "cell_type": "code",
   "execution_count": 2,
   "metadata": {},
   "outputs": [],
   "source": [
    "import pandas as pd\n",
    "import numpy as np\n",
    "import requests\n",
    "import re\n",
    "from bs4 import BeautifulSoup\n",
    "from selenium import webdriver\n",
    "from selenium.webdriver.chrome.options import Options\n",
    "from selenium.webdriver.common.by import By\n",
    "import time\n",
    "from IPython.display import display, clear_output"
   ]
  },
  {
   "cell_type": "code",
   "execution_count": 3,
   "metadata": {},
   "outputs": [],
   "source": [
    "options = webdriver.ChromeOptions()\n",
    "options.add_argument('--ignore-certificate-errors')\n",
    "options.add_argument('--incognito')\n",
    "driver = webdriver.Chrome(\"C:/chrome driver/chromedriver.exe\")"
   ]
  },
  {
   "cell_type": "code",
   "execution_count": 4,
   "metadata": {},
   "outputs": [],
   "source": [
    "driver.get('https://www.tripadvisor.com.sg/Restaurant_Review-g294265-d3569677-Reviews-Oriental_Chinese_Restaurant-Singapore.html#REVIEWS')"
   ]
  },
  {
   "cell_type": "code",
   "execution_count": 5,
   "metadata": {},
   "outputs": [],
   "source": [
    "review_description = driver.find_elements_by_class_name(\"noQuotes\")\n",
    "review_content = driver.find_elements_by_class_name(\"partial_entry\")\n",
    "review_date = driver.find_elements_by_class_name(\"ratingDate\")\n",
    "review_rating = driver.find_elements_by_class_name(\"ui_bubble_rating\")\n",
    "pages = driver.find_elements_by_class_name(\"pageNum\")"
   ]
  },
  {
   "cell_type": "code",
   "execution_count": 98,
   "metadata": {
    "scrolled": true
   },
   "outputs": [
    {
     "name": "stdout",
     "output_type": "stream",
     "text": [
      "https://www.tripadvisor.com.sg/Restaurant_Review-g294265-d3569677-Reviews-or00-Oriental_Chinese_Restaurant-Singapore.html\n",
      "https://www.tripadvisor.com.sg/Restaurant_Review-g294265-d3569677-Reviews-or10-Oriental_Chinese_Restaurant-Singapore.html\n",
      "https://www.tripadvisor.com.sg/Restaurant_Review-g294265-d3569677-Reviews-or20-Oriental_Chinese_Restaurant-Singapore.html\n",
      "https://www.tripadvisor.com.sg/Restaurant_Review-g294265-d3569677-Reviews-or30-Oriental_Chinese_Restaurant-Singapore.html\n",
      "https://www.tripadvisor.com.sg/Restaurant_Review-g294265-d3569677-Reviews-or40-Oriental_Chinese_Restaurant-Singapore.html\n",
      "https://www.tripadvisor.com.sg/Restaurant_Review-g294265-d3569677-Reviews-or50-Oriental_Chinese_Restaurant-Singapore.html\n",
      "https://www.tripadvisor.com.sg/Restaurant_Review-g294265-d3569677-Reviews-or60-Oriental_Chinese_Restaurant-Singapore.html\n"
     ]
    }
   ],
   "source": [
    "URL = 'https://www.tripadvisor.com.sg/Restaurant_Review-g294265-d3569677-Reviews-Oriental_Chinese_Restaurant-Singapore.html#REVIEWS'\n",
    "page = requests.get(URL)\n",
    "soup = BeautifulSoup(page.content, 'html.parser')\n",
    "\n",
    "all_review_content = []\n",
    "all_review_description = []\n",
    "all_review_date = []\n",
    "all_review_rating = []\n",
    "\n",
    "\n",
    "MAX_PAGE_NUM = 7\n",
    "MAX_PAGE_DIG = 2\n",
    "\n",
    "# with open ('tripadvisorReview.csv','w') as f:\n",
    "#     f.write(\"Reviews, Rating \\n\")\n",
    "    \n",
    "for i in range (0, MAX_PAGE_NUM):\n",
    "    page_num = str(i) + len(str(i))* \"0\" \n",
    "    url = \"https://www.tripadvisor.com.sg/Restaurant_Review-g294265-d3569677-Reviews-or\" + page_num + \"-Oriental_Chinese_Restaurant-Singapore.html\"\n",
    "    driver.get(url)\n",
    "    \n",
    "#     rating_reviews = driver.find_all(\"div\", {\"class\": 'ui_column is-9'})\n",
    "    \n",
    "    review_description = driver.find_elements_by_class_name(\"noQuotes\")\n",
    "    review_content = driver.find_elements_by_class_name(\"partial_entry\")\n",
    "    review_date = driver.find_elements_by_class_name(\"ratingDate\")\n",
    "    review_rating = driver.find_elements_by_class_name(\"ui_bubble_rating\")\n",
    "#     var = driver.find_element_by_class_name('ui_bubble_rating').get_attribute('class')\n",
    "#     review_rating = var.split(\"_\")[-1]\n",
    "#     print(review_rating)\n",
    "\n",
    "    \n",
    "    ### get the ratings for the current page\n",
    "\n",
    "\n",
    "  \n",
    "    num_page_items = len(review_description)\n",
    "\n",
    "    for review in review_content:\n",
    "        one_review_content = []\n",
    "        one_review_content.append(review.text)\n",
    "        all_review_content.append(one_review_content)\n",
    "    for description in review_description:\n",
    "        one_review_description = []\n",
    "        one_review_description.append(description.text)\n",
    "        all_review_description.append(one_review_description)\n",
    "    for date in review_date:\n",
    "        one_review_date = []\n",
    "        one_review_date.append(date.text)\n",
    "        all_review_date.append(one_review_date)\n",
    "    for rating in review_rating:\n",
    "        one_review_rating = []\n",
    "        new_rating = int((rating.get_attribute('class')).split(\"_\")[-1])/10\n",
    "        one_review_rating.append(str(new_rating))\n",
    "        all_review_rating.append(one_review_rating)\n",
    "        \n",
    "#         print(new_rating)\n",
    "#     for rating in review_rating:\n",
    "#         one_review_rating = []\n",
    "#         var = driver.find_element_by_class_name('ui_bubble_rating').get_attribute('class')\n",
    "#         review_rating = var.split(\"_\")[-1]\n",
    "#         one_review_rating.append(review_rating)\n",
    "#         all_review_rating.append(one_review_rating)\n",
    "\n",
    "            \n",
    "\n",
    "    print(url)\n",
    "    \n",
    "\n",
    "# for i in range (1,11):\n",
    "# #     print(i)\n",
    "#     for j in pages:\n",
    "#         print(j.text)\n",
    "#         if j.text == str(i):\n",
    "#             j.click()\n",
    "#             print(\"clicked\")\n",
    "#             continue\n",
    "            \n",
    "#     for element in rating_reviews:\n",
    "#         reviews = element.find('span',{\"class\":'ui_bubble_rating'})\n",
    "#         new = re.sub(\"[^1-9]\", \"\", str(reviews))\n",
    "#         rating_all.append(new)   \n",
    "        \n",
    "\n"
   ]
  },
  {
   "cell_type": "code",
   "execution_count": 76,
   "metadata": {},
   "outputs": [],
   "source": [
    "# rating_reviews = soup.find_all(\"span\", {\"class\": 'ui_bubble_rating'})\n",
    "\n",
    "# all_rating1 = []\n",
    "# for rating in rating_reviews:\n",
    "# #     one_page_rating = []\n",
    "# #     one_page_rating.append(rating)\n",
    "#     all_rating1.append(str(rating))\n",
    "# #     print(rating)\n",
    "# #     new = rating.sub(\"[^0-9]\", \"\", str(rating))\n",
    "# #     print(new)\n"
   ]
  },
  {
   "cell_type": "code",
   "execution_count": 84,
   "metadata": {},
   "outputs": [],
   "source": [
    "# for rating in all_rating1:\n",
    "# #     print(rating)\n",
    "# #     new = rating.sub(\"[^0-9]\", \"\", rating)\n",
    "#     new = rating.replace('[^0-9]',\"\")\n",
    "#     print(new)\n"
   ]
  },
  {
   "cell_type": "code",
   "execution_count": null,
   "metadata": {},
   "outputs": [],
   "source": [
    "# for j in pages:\n",
    "#     print(j.text)\n",
    "#     if j.text == \"5\":\n",
    "#         j.click()"
   ]
  },
  {
   "cell_type": "code",
   "execution_count": null,
   "metadata": {},
   "outputs": [],
   "source": [
    "# for i in rating1:\n",
    "#     new = re.sub(\"[^1-9]\", \"\", str(i))\n",
    "#     print(new)"
   ]
  },
  {
   "cell_type": "code",
   "execution_count": 99,
   "metadata": {},
   "outputs": [],
   "source": [
    "\n",
    "all_review_in_4_columns = []\n",
    "for i in range(len(all_review_content)):  \n",
    "    all_reviews = []\n",
    "    all_reviews.append(str(all_review_description[i]))\n",
    "    all_reviews.append(str(all_review_content[i]))\n",
    "    all_reviews.append(str(all_review_date[i]))\n",
    "    all_reviews.append(str(all_review_rating[i]))\n",
    "    all_review_in_4_columns.append(all_reviews)\n"
   ]
  },
  {
   "cell_type": "code",
   "execution_count": 100,
   "metadata": {},
   "outputs": [],
   "source": [
    "df = pd.DataFrame(all_review_in_4_columns,columns=['Review Description','Review Content','Date','Rating'])\n"
   ]
  },
  {
   "cell_type": "code",
   "execution_count": 101,
   "metadata": {},
   "outputs": [
    {
     "data": {
      "text/html": [
       "<div>\n",
       "<style scoped>\n",
       "    .dataframe tbody tr th:only-of-type {\n",
       "        vertical-align: middle;\n",
       "    }\n",
       "\n",
       "    .dataframe tbody tr th {\n",
       "        vertical-align: top;\n",
       "    }\n",
       "\n",
       "    .dataframe thead th {\n",
       "        text-align: right;\n",
       "    }\n",
       "</style>\n",
       "<table border=\"1\" class=\"dataframe\">\n",
       "  <thead>\n",
       "    <tr style=\"text-align: right;\">\n",
       "      <th></th>\n",
       "      <th>Review Description</th>\n",
       "      <th>Review Content</th>\n",
       "      <th>Date</th>\n",
       "      <th>Rating</th>\n",
       "    </tr>\n",
       "  </thead>\n",
       "  <tbody>\n",
       "    <tr>\n",
       "      <td>0</td>\n",
       "      <td>['Harks back to Xian']</td>\n",
       "      <td>['A friend took me here and wow, had some barb...</td>\n",
       "      <td>['Reviewed 19 December 2019']</td>\n",
       "      <td>['4.5']</td>\n",
       "    </tr>\n",
       "    <tr>\n",
       "      <td>1</td>\n",
       "      <td>['Flavourful, Fast, Friendly Prices']</td>\n",
       "      <td>['It is one of our favourite supper joint week...</td>\n",
       "      <td>['Reviewed 20 November 2019']</td>\n",
       "      <td>['4.5']</td>\n",
       "    </tr>\n",
       "    <tr>\n",
       "      <td>2</td>\n",
       "      <td>['Visited this place multiple times']</td>\n",
       "      <td>['Awesome Chinese restaurant! Love its lamb sk...</td>\n",
       "      <td>['Reviewed 6 November 2019']</td>\n",
       "      <td>['4.0']</td>\n",
       "    </tr>\n",
       "    <tr>\n",
       "      <td>3</td>\n",
       "      <td>['Good cheap food but unhygienic']</td>\n",
       "      <td>['Very affordable food. Taste is above average...</td>\n",
       "      <td>['Reviewed 29 October 2019']</td>\n",
       "      <td>['5.0']</td>\n",
       "    </tr>\n",
       "    <tr>\n",
       "      <td>4</td>\n",
       "      <td>['First meal in Chinatown &amp; great']</td>\n",
       "      <td>['Not a real tourist place so we gave it a try...</td>\n",
       "      <td>['Reviewed 29 September 2019']</td>\n",
       "      <td>['5.0']</td>\n",
       "    </tr>\n",
       "  </tbody>\n",
       "</table>\n",
       "</div>"
      ],
      "text/plain": [
       "                      Review Description  \\\n",
       "0                 ['Harks back to Xian']   \n",
       "1  ['Flavourful, Fast, Friendly Prices']   \n",
       "2  ['Visited this place multiple times']   \n",
       "3     ['Good cheap food but unhygienic']   \n",
       "4    ['First meal in Chinatown & great']   \n",
       "\n",
       "                                      Review Content  \\\n",
       "0  ['A friend took me here and wow, had some barb...   \n",
       "1  ['It is one of our favourite supper joint week...   \n",
       "2  ['Awesome Chinese restaurant! Love its lamb sk...   \n",
       "3  ['Very affordable food. Taste is above average...   \n",
       "4  ['Not a real tourist place so we gave it a try...   \n",
       "\n",
       "                             Date   Rating  \n",
       "0   ['Reviewed 19 December 2019']  ['4.5']  \n",
       "1   ['Reviewed 20 November 2019']  ['4.5']  \n",
       "2    ['Reviewed 6 November 2019']  ['4.0']  \n",
       "3    ['Reviewed 29 October 2019']  ['5.0']  \n",
       "4  ['Reviewed 29 September 2019']  ['5.0']  "
      ]
     },
     "execution_count": 101,
     "metadata": {},
     "output_type": "execute_result"
    }
   ],
   "source": [
    "df.head()"
   ]
  },
  {
   "cell_type": "code",
   "execution_count": 102,
   "metadata": {},
   "outputs": [],
   "source": [
    "df.to_csv(\"tripadvisor_reviews\" + \".csv\")"
   ]
  }
 ],
 "metadata": {
  "kernelspec": {
   "display_name": "Python 3",
   "language": "python",
   "name": "python3"
  },
  "language_info": {
   "codemirror_mode": {
    "name": "ipython",
    "version": 3
   },
   "file_extension": ".py",
   "mimetype": "text/x-python",
   "name": "python",
   "nbconvert_exporter": "python",
   "pygments_lexer": "ipython3",
   "version": "3.7.4"
  }
 },
 "nbformat": 4,
 "nbformat_minor": 2
}
